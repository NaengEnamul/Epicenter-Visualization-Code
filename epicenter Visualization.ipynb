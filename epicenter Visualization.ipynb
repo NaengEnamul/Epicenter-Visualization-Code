import webbrowser
import folium

d = 0
x = []
y = []
colorlist = ['#ff0000', '#ffa500', '#ffff00', '#00ff00', '#0000ff', '#00008b']
print("Epicenter Visualization Code")
vp = float(input("Enter the speed of the P wave"))
vs = float(input("Enter the speed of the S wave"))

while True :
    xm, ym = map(float, input("Please enter coordinates / Enter '0, 0' when all fields have been entered").split(", "))
    if xm == 0:
        print("End")
        break
    if ym == 0:
        print("End")
        break
    x.append(xm)
    y.append(ym)

i = 0
m=folium.Map(location=[36.84671094764842, 178.29490427750144], zoom_start=3)

for i in range(len(x)) :
    print("-",i+1,"-")
    ps = float(input("Please enter PS time"))
    d = (vp*vs/(vp-vs))*ps                          
    print('%.2fkm away'%d)
    folium.Circle([x[i],y[i]], radius=d*1000,color=colorlist[i],fill_color=colorlist[i], popup=i+1).add_to(m)
    folium.Marker([x[i],y[i]], popup=i+1, icon=folium.Icon('red', icon='star'),).add_to(m)
    
m.save('Epicenter Visualization.html') 
webbrowser.open('Epicenter Visualization.html')
